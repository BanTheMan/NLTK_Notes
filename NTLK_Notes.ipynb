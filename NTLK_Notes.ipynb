{
 "cells": [
  {
   "cell_type": "markdown",
   "id": "4f88ad49",
   "metadata": {},
   "source": [
    "import and download all nltk functions:"
   ]
  },
  {
   "cell_type": "code",
   "execution_count": 1,
   "id": "ee2cdd65",
   "metadata": {},
   "outputs": [],
   "source": [
    "import nltk"
   ]
  },
  {
   "cell_type": "code",
   "execution_count": 2,
   "id": "b1627fd0",
   "metadata": {},
   "outputs": [
    {
     "name": "stdout",
     "output_type": "stream",
     "text": [
      "Defaulting to user installation because normal site-packages is not writeable\n",
      "Requirement already satisfied: nltk in /usr/local/lib/python3.10/dist-packages (3.8.1)\n",
      "Requirement already satisfied: joblib in /usr/local/lib/python3.10/dist-packages (from nltk) (1.3.2)\n",
      "Requirement already satisfied: regex>=2021.8.3 in /usr/local/lib/python3.10/dist-packages (from nltk) (2023.10.3)\n",
      "Requirement already satisfied: click in /usr/local/lib/python3.10/dist-packages (from nltk) (8.1.7)\n",
      "Requirement already satisfied: tqdm in /usr/local/lib/python3.10/dist-packages (from nltk) (4.66.1)\n"
     ]
    }
   ],
   "source": [
    "# You may need to install nltk\n",
    "!pip install nltk\n",
    "# (this command is specific to the bash command line for Linux)"
   ]
  },
  {
   "cell_type": "code",
   "execution_count": 3,
   "id": "218a0d40",
   "metadata": {},
   "outputs": [
    {
     "name": "stdout",
     "output_type": "stream",
     "text": [
      "Defaulting to user installation because normal site-packages is not writeable\n",
      "Requirement already satisfied: nltk in /usr/local/lib/python3.10/dist-packages (3.8.1)\n",
      "Requirement already satisfied: regex>=2021.8.3 in /usr/local/lib/python3.10/dist-packages (from nltk) (2023.10.3)\n",
      "Requirement already satisfied: joblib in /usr/local/lib/python3.10/dist-packages (from nltk) (1.3.2)\n",
      "Requirement already satisfied: tqdm in /usr/local/lib/python3.10/dist-packages (from nltk) (4.66.1)\n",
      "Requirement already satisfied: click in /usr/local/lib/python3.10/dist-packages (from nltk) (8.1.7)\n"
     ]
    }
   ],
   "source": [
    "# If at any point the code unexplicable stops working, check the nltk library\n",
    "# Or run in the command line:\n",
    "!pip install --upgrade nltk"
   ]
  },
  {
   "cell_type": "code",
   "execution_count": 5,
   "id": "f943eada",
   "metadata": {},
   "outputs": [
    {
     "name": "stdout",
     "output_type": "stream",
     "text": [
      "NLTK Downloader\n",
      "---------------------------------------------------------------------------\n",
      "    d) Download   l) List    u) Update   c) Config   h) Help   q) Quit\n",
      "---------------------------------------------------------------------------\n",
      "Downloader> q\n"
     ]
    },
    {
     "data": {
      "text/plain": [
       "True"
      ]
     },
     "execution_count": 5,
     "metadata": {},
     "output_type": "execute_result"
    }
   ],
   "source": [
    "nltk.download()\n",
    "# This function will provide a pop-up.\n",
    "# You may select \"all packages\" and press download\n",
    "# Otherwise, install only the functions you are using to avoid the interface"
   ]
  },
  {
   "cell_type": "markdown",
   "id": "4d8dfa20",
   "metadata": {},
   "source": [
    "Tokenizing Text:\n",
    "\n",
    "\n",
    "Tokenizers split strings into lists of substrings to be given values.\n",
    "\n",
    "https://www.nltk.org/api/nltk.tokenize.html?highlight=tokenize#module-nltk.tokenize"
   ]
  },
  {
   "cell_type": "code",
   "execution_count": 6,
   "id": "360e0d4a",
   "metadata": {},
   "outputs": [
    {
     "name": "stderr",
     "output_type": "stream",
     "text": [
      "[nltk_data] Downloading package punkt to /home/brandon/nltk_data...\n",
      "[nltk_data]   Unzipping tokenizers/punkt.zip.\n"
     ]
    },
    {
     "data": {
      "text/plain": [
       "True"
      ]
     },
     "execution_count": 6,
     "metadata": {},
     "output_type": "execute_result"
    }
   ],
   "source": [
    "# You may need to download a package:\n",
    "nltk.download('punkt')"
   ]
  },
  {
   "cell_type": "code",
   "execution_count": 7,
   "id": "65308377",
   "metadata": {},
   "outputs": [
    {
     "name": "stdout",
     "output_type": "stream",
     "text": [
      "['Welcome', 'to', 'Brandon', \"'s\", 'short', 'nltk', 'course', '.', 'Here', 'are', 'some', 'ways', 'to', 'tokenize', '!']\n"
     ]
    }
   ],
   "source": [
    "text = \"Welcome to Brandon's short nltk course. Here are some ways to tokenize!\"\n",
    "\n",
    "# Specific Import\n",
    "from nltk.tokenize import word_tokenize\n",
    "\n",
    "tokens = word_tokenize(text)\n",
    "# Splits based on words and punctuation\n",
    "\n",
    "print(tokens)"
   ]
  },
  {
   "cell_type": "code",
   "execution_count": 8,
   "id": "dcee9327",
   "metadata": {},
   "outputs": [
    {
     "name": "stdout",
     "output_type": "stream",
     "text": [
      "[\"Welcome to Brandon's short nltk course.\", 'Here are some ways to tokenize!']\n"
     ]
    }
   ],
   "source": [
    "text = \"Welcome to Brandon's short nltk course. Here are some ways to tokenize!\"\n",
    "\n",
    "# Specific Import\n",
    "from nltk.tokenize import sent_tokenize\n",
    "\n",
    "tokens = sent_tokenize(text)\n",
    "# Splits based on sentences\n",
    "# Converts an entire sentence into a single token\n",
    "\n",
    "print(tokens)"
   ]
  },
  {
   "cell_type": "code",
   "execution_count": 9,
   "id": "54817538",
   "metadata": {},
   "outputs": [
    {
     "name": "stdout",
     "output_type": "stream",
     "text": [
      "['Hello', ',', 'nice', 'to', 'meet', 'you', ',', '.', \"I've\", 'been', 'waiting', 'wayyy', 'too', 'long', '.']\n",
      "Notice the Twitter handle has been removed and the y's have been reduced\n"
     ]
    }
   ],
   "source": [
    "# Casual Tokenizer\n",
    "\n",
    "text = \"Hello, nice to meet you, @user. I've been waiting wayyyyyyyyy too long.\"\n",
    "\n",
    "# Specific Import\n",
    "from nltk.tokenize import TweetTokenizer\n",
    "\n",
    "# Creating a tokenizer object \n",
    "# (TweeTokenizer is a class)\n",
    "tknzr = TweetTokenizer(reduce_len=True, strip_handles=True)\n",
    "# You may customize the arguments here for different functions\n",
    "# Parameters: \n",
    "# [parameter]=[value]: [value] is [paramter]'s defaut value\n",
    "# \n",
    "# preserve_case=True: whether to preserve casing (capitalisation)\n",
    "# reduce_len=False: whether to replace 3 or more of the same repeating characters with only 3\n",
    "# strip_handles=False: whether to remove Twitter handles from text\n",
    "# match_phone_numbers=True: whether the tokenizer should look for phone numbers\n",
    "\n",
    "tokens = tknzr.tokenize(text)\n",
    "\n",
    "print(f\"{tokens}\\nNotice the Twitter handle has been removed and the y's have been reduced\")"
   ]
  },
  {
   "cell_type": "code",
   "execution_count": 11,
   "id": "8e94795e",
   "metadata": {},
   "outputs": [
    {
     "name": "stderr",
     "output_type": "stream",
     "text": [
      "[nltk_data] Downloading package words to /home/brandon/nltk_data...\n",
      "[nltk_data]   Unzipping corpora/words.zip.\n"
     ]
    },
    {
     "data": {
      "text/plain": [
       "True"
      ]
     },
     "execution_count": 11,
     "metadata": {},
     "output_type": "execute_result"
    }
   ],
   "source": [
    "# You may need to download a package:\n",
    "nltk.download('words')"
   ]
  },
  {
   "cell_type": "code",
   "execution_count": 12,
   "id": "3e952779",
   "metadata": {},
   "outputs": [
    {
     "name": "stdout",
     "output_type": "stream",
     "text": [
      "[['Wel', 'co', 'me'], ['to'], ['Bran', 'don'], [\"'s\"], ['short'], ['nltk'], ['co', 'ur', 'se'], ['.']]\n"
     ]
    }
   ],
   "source": [
    "# Returning syllables\n",
    "\n",
    "# Specific Import\n",
    "from nltk.tokenize import LegalitySyllableTokenizer\n",
    "# Import tokenized source text\n",
    "from nltk.corpus import words\n",
    "\n",
    "# Creating a legality tokenizer object \n",
    "# (LegalitySyllableTokenizer is a class)\n",
    "LP = LegalitySyllableTokenizer(words.words())\n",
    "# tokenizes a token based on syllables\n",
    "\n",
    "from nltk.tokenize import word_tokenize\n",
    "tokens = word_tokenize(text)\n",
    "\n",
    "\n",
    "syllable_sentence = []\n",
    "\n",
    "for word in tokens:\n",
    "    # Iterate through tokenized words\n",
    "    syllable = LP.tokenize(word)\n",
    "    # Find syllables\n",
    "    syllable_sentence.append(syllable)\n",
    "    # Add to list\n",
    "\n",
    "print(syllable_sentence)"
   ]
  },
  {
   "cell_type": "markdown",
   "id": "c82e16c2",
   "metadata": {},
   "source": [
    "Other language tokenizers\n",
    "\n",
    "Other languages need to be parsed differently based on their languistic rules\n",
    "For example:\n",
    "Chinese has no punctuation and Arabic reads from right to left\n",
    "\n",
    "There are provided methods used for these two languages in nltk\n",
    "You may look into this if necessary from this source code:\n",
    "https://www.nltk.org/_modules/nltk/test/unit/test_tokenize.html#TestTokenize.test_stanford_segmenter_chinese\n",
    "\n",
    "However, do not be afraid to use other libraries."
   ]
  },
  {
   "cell_type": "markdown",
   "id": "fe73ca1e",
   "metadata": {},
   "source": [
    "Tagging Tokens:"
   ]
  },
  {
   "cell_type": "code",
   "execution_count": 13,
   "id": "2179b283",
   "metadata": {},
   "outputs": [
    {
     "name": "stderr",
     "output_type": "stream",
     "text": [
      "[nltk_data] Downloading package averaged_perceptron_tagger to\n",
      "[nltk_data]     /home/brandon/nltk_data...\n",
      "[nltk_data]   Unzipping taggers/averaged_perceptron_tagger.zip.\n"
     ]
    },
    {
     "data": {
      "text/plain": [
       "True"
      ]
     },
     "execution_count": 13,
     "metadata": {},
     "output_type": "execute_result"
    }
   ],
   "source": [
    "# You may need to download a package:\n",
    "nltk.download('averaged_perceptron_tagger')"
   ]
  },
  {
   "cell_type": "code",
   "execution_count": 14,
   "id": "a4671e33",
   "metadata": {},
   "outputs": [
    {
     "name": "stdout",
     "output_type": "stream",
     "text": [
      "[('Welcome', 'VB'), ('to', 'TO'), ('Brandon', 'NNP'), (\"'s\", 'POS'), ('short', 'JJ'), ('nltk', 'NN')]\n"
     ]
    }
   ],
   "source": [
    "tagged = nltk.pos_tag(tokens)\n",
    "# Tagging function sets a part-of-speech tag to each token using a pretrained model called 'pickle'\n",
    "# The tags are an identification of the form of word\n",
    "# Look at next cell\n",
    "\n",
    "print(tagged[0:6])\n",
    "# tagged[beg_index:placements] returns a list of tuples ('word', 'tag')\n",
    "# from the beginning index (0) and forward for x placements (6).\n",
    "# resulting in x (6) tuples"
   ]
  },
  {
   "cell_type": "markdown",
   "id": "84645b0c",
   "metadata": {},
   "source": [
    "Tags Explained:\n",
    "source: https://stackoverflow.com/questions/15388831/what-are-all-possible-pos-tags-of-nltk\n",
    "\n",
    "Tags are an abbreviated representation of a part of speech. When you tag a token, you are determining what part of speech that word is.\n",
    "\n",
    "Here are some examples to help grasp the idea:\n",
    "\n",
    "**DISCLAIMER**: There are many tags which you may see in the source provided. This is a crudely short listing provided solely as examples for understanding.\n",
    "\n",
    "**NN: noun, common, singular or mass**\n",
    "\n",
    "Ex words:\n",
    "common-carrier cabbage knuckle-duster Casino afghan shed thermostat\n",
    "investment slide humour falloff slick wind hyena override subhumanity\n",
    "machinist\n",
    "\n",
    "\n",
    "**NNP: noun, proper, singular**\n",
    "\n",
    "Ex words:\n",
    "Motown Venneboerger Czestochwa Ranzer Conchita Trumplane Christos\n",
    "Oceanside Escobar Kreisler Sawyer Cougar Yvette Ervin ODI Darryl CTCA\n",
    "Shannon A.K.C. Meltex Liverpool\n",
    "\n",
    "\n",
    "**NNS: noun, common, plural**\n",
    "\n",
    "Ex words:\n",
    "undergraduates scotches bric-a-brac products bodyguards facets coasts\n",
    "divestitures storehouses designs clubs fragrances averages\n",
    "subjectivists apprehensions muses factory-jobs\n",
    "\n",
    "**VB: verb, base form**\n",
    "\n",
    "Ex words:\n",
    "ask assemble assess assign assume atone attention avoid bake balkanize\n",
    "bank begin behold believe bend benefit bevel beware bless boil bomb\n",
    "boost brace break bring broil brush build\n",
    "\n",
    "\n",
    "**VBD: verb, past tense**\n",
    "\n",
    "Ex words:\n",
    "dipped pleaded swiped regummed soaked tidied convened halted registered\n",
    "cushioned exacted snubbed strode aimed adopted belied figgered\n",
    "speculated wore appreciated contemplated"
   ]
  },
  {
   "cell_type": "markdown",
   "id": "9a6ab6c6",
   "metadata": {},
   "source": [
    "Analyzing Tokenized Text:"
   ]
  },
  {
   "cell_type": "code",
   "execution_count": 15,
   "id": "bfa36329",
   "metadata": {},
   "outputs": [
    {
     "name": "stdout",
     "output_type": "stream",
     "text": [
      "[(0, 7), (8, 10), (11, 20), (21, 26), (27, 31), (32, 39), (40, 44), (45, 48), (49, 53), (54, 58), (59, 61), (62, 71)]\n"
     ]
    }
   ],
   "source": [
    "text = \"Welcome to Brandon's short nltk course. Here are some ways to tokenize!\"\n",
    "\n",
    "# Specific Import\n",
    "from nltk.tokenize import WhitespaceTokenizer\n",
    "\n",
    "tokens = list(WhitespaceTokenizer().span_tokenize(text))\n",
    "# WhitespaceTokenizer() splits string based on whitespace\n",
    "# span_tokenize returns a tuple including the beginning and index of a given token\n",
    "\n",
    "print(tokens)"
   ]
  },
  {
   "cell_type": "code",
   "execution_count": 16,
   "id": "0cc20fce",
   "metadata": {},
   "outputs": [
    {
     "name": "stdout",
     "output_type": "stream",
     "text": [
      "Token Amounts: \n",
      "<FreqDist with 9 samples and 17 outcomes>\n",
      "\n",
      "\n",
      "Token Frequencies: \n",
      "<bound method Counter.most_common of FreqDist({'I': 3, '.': 3, 'like': 2, 'to': 2, 'learn': 2, 'nltk': 2, 'would': 1, 'am': 1, 'willing': 1})>\n",
      "\n",
      "\n"
     ]
    }
   ],
   "source": [
    "text = \"I would like to learn nltk. I like nltk. I am willing to learn.\"\n",
    "\n",
    "from nltk.tokenize import word_tokenize\n",
    "tokens = word_tokenize(text)\n",
    "\n",
    "# Specific Import\n",
    "from nltk.probability import FreqDist\n",
    "\n",
    "fd = FreqDist(tokens)\n",
    "# FreqDist returns the number of different tokens (samples)-\n",
    "# and number of total tokens (outcomes)\n",
    "print(f\"Token Amounts: \\n{fd}\\n\\n\")\n",
    "\n",
    "fdmc = fd.most_common\n",
    "# most_common returns the most frequent tokens-\n",
    "# including the string and its number of recurrences\n",
    "print(f\"Token Frequencies: \\n{fdmc}\\n\\n\")"
   ]
  },
  {
   "cell_type": "markdown",
   "id": "24cbbc31",
   "metadata": {},
   "source": [
    "Fun Experiment:"
   ]
  },
  {
   "cell_type": "code",
   "execution_count": 17,
   "id": "b155782b",
   "metadata": {},
   "outputs": [
    {
     "name": "stdout",
     "output_type": "stream",
     "text": [
      "Defaulting to user installation because normal site-packages is not writeable\n",
      "Requirement already satisfied: matplotlib in /usr/lib/python3/dist-packages (3.5.1)\n"
     ]
    }
   ],
   "source": [
    "# Install matplotlib\n",
    "!pip install matplotlib"
   ]
  },
  {
   "cell_type": "code",
   "execution_count": 18,
   "id": "372a42d3",
   "metadata": {},
   "outputs": [
    {
     "data": {
      "image/png": "[encoded data removed]",
      "text/plain": [
       "<Figure size 432x288 with 1 Axes>"
      ]
     },
     "metadata": {
      "needs_background": "light"
     },
     "output_type": "display_data"
    },
    {
     "data": {
      "image/png": "[encoded data removed]",
      "text/plain": [
       "<Figure size 432x288 with 1 Axes>"
      ]
     },
     "metadata": {
      "needs_background": "light"
     },
     "output_type": "display_data"
    }
   ],
   "source": [
    "# Specific Import\n",
    "import matplotlib.pyplot as plt\n",
    "\n",
    "from nltk.tokenize import word_tokenize\n",
    "text = \"I would like to learn nltk. I like nltk. I am willing to learn.\"\n",
    "tokens = word_tokenize(text)\n",
    "\n",
    "from nltk.probability import FreqDist\n",
    "fd = FreqDist(tokens)\n",
    "# Covered in above cell\n",
    "\n",
    "fd.plot(30, cumulative=False)\n",
    "# Returns plot as seen below. \n",
    "# First argument is the number of samples allowed to be shown\n",
    "# Ex: providing 2 would show only 'I' and '.'\n",
    "# cumulative is covered in next graph\n",
    "plt.show()\n",
    "\n",
    "fd.plot(30, cumulative=True)\n",
    "# cumulative will add the frequency of the sample onto the frequency of the previous sample\n",
    "# y = (y at x) + (y at x-1)\n",
    "# Ex: 'I' shows up 3 times & '.' shows up 3 as well. So 'I' graphs at 3 and '.' graphs at 6 (3+3=6)\n",
    "plt.show()"
   ]
  },
  {
   "cell_type": "markdown",
   "id": "c16f610e",
   "metadata": {},
   "source": [
    "Removing Stop Words:"
   ]
  },
  {
   "cell_type": "code",
   "execution_count": 19,
   "id": "b0916461",
   "metadata": {},
   "outputs": [
    {
     "name": "stderr",
     "output_type": "stream",
     "text": [
      "[nltk_data] Downloading package stopwords to\n",
      "[nltk_data]     /home/brandon/nltk_data...\n",
      "[nltk_data]   Unzipping corpora/stopwords.zip.\n"
     ]
    },
    {
     "data": {
      "text/plain": [
       "True"
      ]
     },
     "execution_count": 19,
     "metadata": {},
     "output_type": "execute_result"
    }
   ],
   "source": [
    "# You may need to download a package:\n",
    "nltk.download('stopwords')"
   ]
  },
  {
   "cell_type": "code",
   "execution_count": 20,
   "id": "d5105c2d",
   "metadata": {},
   "outputs": [
    {
     "name": "stdout",
     "output_type": "stream",
     "text": [
      "Stop Words: \n",
      "{'then', 'own', 'than', 'that', 'myself', 'having', \"shan't\", 'down', 'it', \"mightn't\", 'were', 'under', 'and', 'd', 'before', 'now', 'each', 'because', 'wasn', \"wasn't\", \"hadn't\", 'had', 'to', 'hers', 'here', 'did', 'what', \"won't\", 'this', 'couldn', 'very', 'didn', 'ain', 'll', 'being', 'its', 'these', 'those', 'when', 'between', 'yours', 'few', \"doesn't\", 'on', 'at', \"shouldn't\", 'needn', 'theirs', 'doing', 'which', \"mustn't\", 'while', \"needn't\", 'are', 'both', 'can', 'not', 'have', 'm', 'the', 'or', 'a', 'just', 'any', \"you've\", 'most', 'weren', 'me', 'shouldn', 'am', 'through', 'my', 'will', 'y', 'why', 'there', 'over', 'won', 'do', 'for', 'from', 'o', 'aren', 'more', 'her', 'but', 'herself', 'if', 'yourself', 'in', \"you'd\", 've', 'him', 'ourselves', 'yourselves', 'whom', 's', 'too', 'such', 'during', 'mightn', 'haven', 'is', \"wouldn't\", 'until', 'who', 'with', 'we', 'be', 'so', \"couldn't\", 'isn', 'into', 'his', 'wouldn', 'they', \"she's\", 'no', 'does', 'off', 'ma', 'an', 'them', \"don't\", 'further', 'hadn', 'all', 'some', \"aren't\", 'she', 'itself', 'above', 'been', 'same', 'your', 'hasn', 'don', 'again', 'up', \"didn't\", \"hasn't\", 'where', 'after', \"you'll\", 'shan', 'you', 'doesn', 'once', 'himself', 're', \"it's\", 'as', \"you're\", 'our', \"haven't\", 'against', 'he', 'of', 'out', 'below', 'should', 'about', 'only', 'mustn', 'by', \"isn't\", 'has', 'i', \"that'll\", 'was', 'how', 't', \"weren't\", 'ours', 'themselves', 'their', 'nor', 'other', \"should've\"}\n",
      "\n",
      "\n",
      "Tokens: \n",
      "['Welcome', 'to', 'Brandon', \"'s\", 'short', 'nltk', 'course', '.', 'Here', 'are', 'some', 'ways', 'to', 'analyze', 'tokens', '!']\n",
      "\n",
      "\n",
      "Tokens without Stop Words: \n",
      "['Welcome', 'Brandon', \"'s\", 'short', 'nltk', 'course', '.', 'Here', 'ways', 'analyze', 'tokens', '!']\n",
      "\n",
      "\n",
      "Stop Words removed from Tokens: \n",
      "{'are', 'some', 'to'}\n",
      "\n",
      "\n"
     ]
    }
   ],
   "source": [
    "text = \"Welcome to Brandon's short nltk course. Here are some ways to analyze tokens!\"\n",
    "\n",
    "# Specific Import\n",
    "from nltk.corpus import stopwords\n",
    "# stop words are words that do not contain important meaning\n",
    "\n",
    "stop_words = set(stopwords.words('english'))\n",
    "# stopwords.words('english') returns a list of stop words from the english language\n",
    "# Other languages such as german, indonesion, portuguese, and spanish can be used\n",
    "print(f\"Stop Words: \\n{stop_words}\\n\\n\")\n",
    "\n",
    "\n",
    "# Specific Import\n",
    "from nltk.tokenize import word_tokenize, sent_tokenize\n",
    "\n",
    "tokens = word_tokenize(text)\n",
    "print(f\"Tokens: \\n{str(tokens)}\\n\\n\")\n",
    "\n",
    "\n",
    "without_stop_words = []\n",
    "for word in tokens:\n",
    "    if word not in stop_words:\n",
    "        without_stop_words.append(word)\n",
    "        # Add every token that is not a stop word\n",
    "        \n",
    "print(f\"Tokens without Stop Words: \\n{str(without_stop_words)}\\n\\n\")\n",
    "\n",
    "print(f\"Stop Words removed from Tokens: \\n{str(set(tokens)-set(without_stop_words))}\\n\\n\")"
   ]
  },
  {
   "cell_type": "markdown",
   "id": "17e59dd1",
   "metadata": {},
   "source": [
    "Stemming and Lemmatizing:\n",
    "\n",
    "Stem: root-word\n",
    "\n",
    "Lemma: dictionary form"
   ]
  },
  {
   "cell_type": "code",
   "execution_count": 21,
   "id": "dba5762a",
   "metadata": {},
   "outputs": [
    {
     "name": "stderr",
     "output_type": "stream",
     "text": [
      "[nltk_data] Downloading package wordnet to /home/brandon/nltk_data...\n"
     ]
    },
    {
     "data": {
      "text/plain": [
       "True"
      ]
     },
     "execution_count": 21,
     "metadata": {},
     "output_type": "execute_result"
    }
   ],
   "source": [
    "# You may need to download a package\n",
    "nltk.download('wordnet')"
   ]
  },
  {
   "cell_type": "code",
   "execution_count": 22,
   "id": "3d4394f1",
   "metadata": {},
   "outputs": [
    {
     "name": "stdout",
     "output_type": "stream",
     "text": [
      "program program program\n",
      "programming program program\n",
      "programmer programm programmer\n",
      "programmed program program\n",
      "use use use\n",
      "using use use\n",
      "user user user\n",
      "used use use\n"
     ]
    }
   ],
   "source": [
    "# Specific Import\n",
    "from nltk.stem import PorterStemmer, WordNetLemmatizer\n",
    "\n",
    "lemmatizer = WordNetLemmatizer()\n",
    "# Returns a given to word its dictionary form\n",
    "stemmer = PorterStemmer()\n",
    "# Reduces words to their root/base form\n",
    "\n",
    "words = ['program', 'programming', 'programmer', 'programmed', 'use', 'using', 'user', 'used']\n",
    "\n",
    "for word in words:\n",
    "    stem = stemmer.stem(word)\n",
    "    # Returns the root word\n",
    "    lemma = lemmatizer.lemmatize(word, 'v')\n",
    "    # Returns lemma (word from dictionary) of word for given pos (part of speech)\n",
    "    # second argument is the Part of Speech tag.\n",
    "    # viable pos tags include:\n",
    "        # 'n' for nouns\n",
    "        # 'v' for verbs\n",
    "        # 'a' for adjectives\n",
    "        # 'r' for adverbs\n",
    "        # 's' for satellite adjectives\n",
    "        \n",
    "    print(word, stem, lemma)"
   ]
  },
  {
   "cell_type": "markdown",
   "id": "d965451a",
   "metadata": {},
   "source": [
    "Finding the Sentiments within a Sentence:\n",
    "\n",
    "https://www.nltk.org/api/nltk.sentiment.SentimentIntensityAnalyzer.html?highlight=polarity_scores"
   ]
  },
  {
   "cell_type": "code",
   "execution_count": 23,
   "id": "7fcaa6d5",
   "metadata": {},
   "outputs": [
    {
     "name": "stderr",
     "output_type": "stream",
     "text": [
      "[nltk_data] Downloading package vader_lexicon to\n",
      "[nltk_data]     /home/brandon/nltk_data...\n"
     ]
    },
    {
     "data": {
      "text/plain": [
       "True"
      ]
     },
     "execution_count": 23,
     "metadata": {},
     "output_type": "execute_result"
    }
   ],
   "source": [
    "# You may need to download a package\n",
    "nltk.download('vader_lexicon')"
   ]
  },
  {
   "cell_type": "code",
   "execution_count": 24,
   "id": "df04d2ab",
   "metadata": {},
   "outputs": [
    {
     "name": "stdout",
     "output_type": "stream",
     "text": [
      "I am learning nltk:\n",
      "{'neg': 0.0, 'neu': 1.0, 'pos': 0.0, 'compound': 0.0}\n",
      "\n",
      "I love learning nltk:\n",
      "{'neg': 0.0, 'neu': 0.323, 'pos': 0.677, 'compound': 0.6369}\n",
      "\n",
      "I hate learning nltk:\n",
      "{'neg': 0.649, 'neu': 0.351, 'pos': 0.0, 'compound': -0.5719}\n",
      "\n"
     ]
    }
   ],
   "source": [
    "# Specific Import\n",
    "from nltk.sentiment import SentimentIntensityAnalyzer\n",
    "\n",
    "sia = SentimentIntensityAnalyzer()\n",
    "\n",
    "text = \"I am learning nltk\"\n",
    "scores = sia.polarity_scores(text)\n",
    "# polarity_scores returns a float for sentimant strength based on the provided text\n",
    "# 'neg' # = amount of negative sentiments in text\n",
    "# 'neu' # = amount of neutral sentiments in text\n",
    "# 'pos' # = amount of positive sentiments in text\n",
    "# 'compound' # = a sum of sentiments\n",
    "print(f\"{text}:\\n{scores}\\n\")\n",
    "\n",
    "\n",
    "text = \"I love learning nltk\"\n",
    "scores = sia.polarity_scores(text)\n",
    "print(f\"{text}:\\n{scores}\\n\")\n",
    "\n",
    "\n",
    "text = \"I hate learning nltk\"\n",
    "scores = sia.polarity_scores(text)\n",
    "print(f\"{text}:\\n{scores}\\n\")"
   ]
  },
  {
   "cell_type": "markdown",
   "id": "eca75561",
   "metadata": {},
   "source": [
    "Retrieving information from a word:"
   ]
  },
  {
   "cell_type": "code",
   "execution_count": 25,
   "id": "34f375a4",
   "metadata": {},
   "outputs": [
    {
     "name": "stderr",
     "output_type": "stream",
     "text": [
      "[nltk_data] Downloading package book_grammars to\n",
      "[nltk_data]     /home/brandon/nltk_data...\n",
      "[nltk_data]   Unzipping grammars/book_grammars.zip.\n"
     ]
    },
    {
     "data": {
      "text/plain": [
       "True"
      ]
     },
     "execution_count": 25,
     "metadata": {},
     "output_type": "execute_result"
    }
   ],
   "source": [
    "# Specific Import\n",
    "from nltk.corpus import wordnet\n",
    "\n",
    "# You may need to download a package:\n",
    "nltk.download('book_grammars')"
   ]
  },
  {
   "cell_type": "markdown",
   "id": "0e26acc2",
   "metadata": {},
   "source": [
    "Sub Category: Finding a definition:\n",
    "\n",
    "https://www.nltk.org/howto/wordnet.html?highlight=synsets"
   ]
  },
  {
   "cell_type": "code",
   "execution_count": 26,
   "id": "7814ee95",
   "metadata": {},
   "outputs": [
    {
     "name": "stdout",
     "output_type": "stream",
     "text": [
      "All forms of word available:\n",
      "[Synset('natural.n.01'), Synset('natural.n.02'), Synset('natural.n.03'), Synset('natural.a.01'), Synset('natural.a.02'), Synset('natural.a.03'), Synset('natural.s.04'), Synset('natural.a.05'), Synset('natural.s.06'), Synset('natural.s.07'), Synset('natural.s.08'), Synset('natural.s.09'), Synset('lifelike.s.02')]\n",
      "\n"
     ]
    }
   ],
   "source": [
    "# Finding available definitions\n",
    "\n",
    "word = \"Natural\"\n",
    "\n",
    "syn = wordnet.synsets(word)\n",
    "# Returns a list of forms of the provided word from a dictionary\n",
    "\n",
    "print(f\"All forms of word available:\\n{syn}\\n\")\n",
    "# Each word form has a name and specified pos (part of speech)\n",
    "# n = Noun\n",
    "# v = Verb\n",
    "# a = Adjective\n",
    "# r = Adverb\n",
    "# s = Noun substantive (a word that is not a noun, but can be used as one)"
   ]
  },
  {
   "cell_type": "code",
   "execution_count": 27,
   "id": "79308693",
   "metadata": {},
   "outputs": [
    {
     "name": "stdout",
     "output_type": "stream",
     "text": [
      "[Synset('natural.n.01'), Synset('natural.n.02'), Synset('natural.n.03')]\n"
     ]
    }
   ],
   "source": [
    "# Finding available definitions of a specified pos (part of speech)\n",
    "\n",
    "word = \"Natural\"\n",
    "\n",
    "syn = wordnet.synsets(word, pos='n')\n",
    "# Retrieves synsets for the word with the specified pos (part of speech)\n",
    "# n = Noun\n",
    "# v = Verb\n",
    "# a = Adjective\n",
    "# r = Adverb\n",
    "# s = Noun substantive\n",
    "\n",
    "print(syn)"
   ]
  },
  {
   "cell_type": "code",
   "execution_count": 28,
   "id": "5dd07ed3",
   "metadata": {},
   "outputs": [
    {
     "name": "stdout",
     "output_type": "stream",
     "text": [
      "Definition 1:\n",
      "someone regarded as certain to succeed\n",
      "\n",
      "Definition 2:\n",
      "someone regarded as certain to succeed\n",
      "\n"
     ]
    }
   ],
   "source": [
    "# Retrieving the definition\n",
    "\n",
    "word = \"Natural\"\n",
    "\n",
    "syn1 = wordnet.synsets(word)\n",
    "definition1 = syn1[0].definition()\n",
    "print(f\"Definition 1:\\n{definition1}\\n\")\n",
    "\n",
    "# OR use specified syn set name instead of list position\n",
    "\n",
    "syn2 = wordnet.synset('natural.n.01')\n",
    "# IMPORTANT: must used synset without an s, as it is only one synset\n",
    "\n",
    "definition2 = syn2.definition()\n",
    "print(f\"Definition 2:\\n{definition2}\\n\")\n",
    "\n",
    "\n",
    "# MOVING FORWARD:\n",
    "# When using a specific synset, simply used the function \n",
    "# When using a word, select the synset from it's list. Ex: syn[2]"
   ]
  },
  {
   "cell_type": "markdown",
   "id": "ac779077",
   "metadata": {},
   "source": [
    "Extracting more info:"
   ]
  },
  {
   "cell_type": "code",
   "execution_count": 29,
   "id": "a3a5b852",
   "metadata": {},
   "outputs": [
    {
     "name": "stdout",
     "output_type": "stream",
     "text": [
      "List:\n",
      "1\n",
      "\n",
      "Selected Ex:\n",
      "he's a natural for the job\n",
      "\n"
     ]
    }
   ],
   "source": [
    "# Finding examples of word being used\n",
    "\n",
    "word = 'natural.n.01'\n",
    "syn = wordnet.synset(word)\n",
    "\n",
    "# number of examples:\n",
    "\n",
    "num = len(syn.examples())\n",
    "# syn.examples() returns a list of examples\n",
    "print(f\"List:\\n{num}\\n\")\n",
    "\n",
    "# specific example:\n",
    "\n",
    "ex = syn.examples()[0]\n",
    "print(f\"Selected Ex:\\n{ex}\\n\")"
   ]
  },
  {
   "cell_type": "code",
   "execution_count": 30,
   "id": "8fce4a04",
   "metadata": {},
   "outputs": [
    {
     "name": "stdout",
     "output_type": "stream",
     "text": [
      "Dictionary list:\n",
      "[Lemma('natural.n.02.natural'), Lemma('natural.n.02.cancel')]\n",
      "\n",
      "Lemmas in dictionary:\n",
      "\n",
      "natural\n",
      "\n",
      "cancel\n",
      "\n"
     ]
    }
   ],
   "source": [
    "# Finding the dictionary form of a word\n",
    "\n",
    "word = 'natural.n.02'\n",
    "syn = wordnet.synset(word)\n",
    "\n",
    "lemma_list = syn.lemmas()\n",
    "# Retrieves a list of synonyms from a dictionary\n",
    "# Remember: syn[0] is 'natural.n.01'\n",
    "print(f\"Dictionary list:\\n{lemma_list}\\n\")\n",
    "\n",
    "\n",
    "# Retrieving all dictionary word forms:\n",
    "print(\"Lemmas in dictionary:\\n\")\n",
    "\n",
    "for lemma in lemma_list:\n",
    "    print(f\"{lemma.name()}\\n\")"
   ]
  },
  {
   "cell_type": "code",
   "execution_count": 31,
   "id": "10122e51",
   "metadata": {},
   "outputs": [
    {
     "name": "stdout",
     "output_type": "stream",
     "text": [
      "Synonyms:\n",
      "['natural', 'natural', 'cancel', 'natural', 'natural', 'natural', 'natural', 'natural', 'natural', 'natural', 'instinctive', 'natural', 'raw', 'rude', 'natural', 'natural', 'born', 'innate', 'lifelike', 'natural']\n",
      "\n",
      "Antonyms:\n",
      "['unnatural', 'artificial', 'supernatural', 'sharp', 'flat']\n",
      "\n"
     ]
    }
   ],
   "source": [
    "# Finding Synonyms and Antonyms of a word\n",
    "\n",
    "word = 'Natural'\n",
    "syn_set = wordnet.synsets(word)\n",
    "\n",
    "# Finding Synonyms\n",
    "\n",
    "synonyms = []\n",
    "for syn in syn_set:\n",
    "    # Iterate through each form of the word\n",
    "    for lemma in syn.lemmas():\n",
    "        # Iterate through each synonym\n",
    "        synonyms.append(lemma.name())  \n",
    "        # Retrieve synonym name and add to list\n",
    "        \n",
    "print(f\"Synonyms:\\n{synonyms}\\n\")\n",
    "\n",
    "\n",
    "# Finding Antonyms\n",
    "\n",
    "antonyms = []\n",
    "for syn in wordnet.synsets(word):\n",
    "     # Iterate through each form of the word\n",
    "    for lemma in syn.lemmas():\n",
    "        # Iterate through each synonym\n",
    "        if lemma.antonyms():\n",
    "            # Check if the synonym has antonyms\n",
    "            # lemma.antonyms() returns list of antonym syn sets\n",
    "            for antonym in lemma.antonyms():\n",
    "                # Iterate through each antonym syn set\n",
    "                antonyms.append(antonym.name())\n",
    "                # Retrieve the antonym and add it to list\n",
    "                \n",
    "print(f\"Antonyms:\\n{antonyms}\\n\")"
   ]
  },
  {
   "cell_type": "markdown",
   "id": "c45497ac",
   "metadata": {},
   "source": [
    "A Quick Note on Semantic Reasoning (using reasoning to determine the correct semantics of a sentence):"
   ]
  },
  {
   "cell_type": "code",
   "execution_count": 44,
   "id": "c38841bb",
   "metadata": {},
   "outputs": [
    {
     "name": "stderr",
     "output_type": "stream",
     "text": [
      "[nltk_data] Downloading package wordnet to /home/brandon/nltk_data...\n",
      "[nltk_data]   Package wordnet is already up-to-date!\n"
     ]
    },
    {
     "data": {
      "text/plain": [
       "True"
      ]
     },
     "execution_count": 44,
     "metadata": {},
     "output_type": "execute_result"
    }
   ],
   "source": [
    "# You may need to download a package (if not done already):\n",
    "nltk.download('wordnet')"
   ]
  },
  {
   "cell_type": "code",
   "execution_count": 45,
   "id": "e5d32145",
   "metadata": {},
   "outputs": [
    {
     "name": "stdout",
     "output_type": "stream",
     "text": [
      "The 'natural' in the sentence-\n",
      "'I enjoy how natural it is.'\n",
      "Has been determined to mean:\n",
      "natural.s.04: functioning or occurring in a normal way; lacking abnormalities or deficiencies\n",
      "\n"
     ]
    }
   ],
   "source": [
    "# Disambiguation\n",
    "\n",
    "# Specific Import\n",
    "from nltk.wsd import lesk\n",
    "\n",
    "text = \"I enjoy how natural it is.\"\n",
    "ambiguous_word = \"natural\"\n",
    "\n",
    "# Find the correct sense of the word\n",
    "word_sense = lesk(text, ambiguous_word)\n",
    "# Takes in a context_sentence and ambguous_word to-\n",
    "# determine the correct used of the ambiguous_word\n",
    "# Returns a synset\n",
    "# Optional parameters are:\n",
    "    # pos: specify a part of speech. word_sense will be a definition from that pos\n",
    "        # enter a character Ex: 'n' \n",
    "    # synsets: \n",
    "        # enter an iterable of possible synsets Ex: ['natural.v.01', 'natural.n.02']\n",
    "\n",
    "word_sense_name = word_sense.name()\n",
    "word_sense_definition = word_sense.definition()\n",
    "\n",
    "print(f\"The 'natural' in the sentence-\\n'{text}'\\nHas been determined to mean:\\n{word_sense_name}: {word_sense_definition}\\n\")"
   ]
  },
  {
   "cell_type": "code",
   "execution_count": 46,
   "id": "eaba8e42",
   "metadata": {},
   "outputs": [
    {
     "name": "stdout",
     "output_type": "stream",
     "text": [
      "Synset 1 and 2.\n",
      "Similarity Score: 0.14285714285714285\n",
      "\n",
      "Synset 1 and 1.\n",
      "Similarity Score: 1.0\n",
      "\n"
     ]
    }
   ],
   "source": [
    "# Semantic Similarities\n",
    "\n",
    "syn1 = wordnet.synset('natural.n.01')\n",
    "syn2 = wordnet.synset('natural.n.02')\n",
    "\n",
    "similarity = syn1.wup_similarity(syn2)\n",
    "# Returns a float score representing the similarity between the two synsets\n",
    "\n",
    "print(f\"Synset 1 and 2.\\nSimilarity Score: {similarity}\\n\")\n",
    "\n",
    "similarity = syn1.wup_similarity(syn1)\n",
    "\n",
    "print(f\"Synset 1 and 1.\\nSimilarity Score: {similarity}\\n\")"
   ]
  },
  {
   "cell_type": "markdown",
   "id": "c480234b",
   "metadata": {},
   "source": [
    "Thank you for reading my short nltk course!"
   ]
  }
 ],
 "metadata": {
  "kernelspec": {
   "display_name": "Python 3 (ipykernel)",
   "language": "python",
   "name": "python3"
  },
  "language_info": {
   "codemirror_mode": {
    "name": "ipython",
    "version": 3
   },
   "file_extension": ".py",
   "mimetype": "text/x-python",
   "name": "python",
   "nbconvert_exporter": "python",
   "pygments_lexer": "ipython3",
   "version": "3.10.12"
  }
 },
 "nbformat": 4,
 "nbformat_minor": 5
}
